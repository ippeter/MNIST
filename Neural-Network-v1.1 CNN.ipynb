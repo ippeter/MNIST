{
 "cells": [
  {
   "cell_type": "code",
   "execution_count": null,
   "metadata": {},
   "outputs": [],
   "source": [
    "import numpy as np\n",
    "import pandas as pd\n",
    "import matplotlib.pyplot as plt\n",
    "\n",
    "import cv2\n",
    "\n",
    "from keras.models import Sequential\n",
    "from keras.layers import Dense, Activation, Conv2D, MaxPooling2D, Dropout, Flatten\n",
    "from sklearn.metrics import accuracy_score\n",
    "\n",
    "%pylab inline"
   ]
  },
  {
   "cell_type": "markdown",
   "metadata": {},
   "source": [
    "### Load Train Data"
   ]
  },
  {
   "cell_type": "code",
   "execution_count": null,
   "metadata": {},
   "outputs": [],
   "source": [
    "# Load Train dataset\n",
    "train_data = pd.read_csv('mnist_train.csv')\n",
    "train_data.shape"
   ]
  },
  {
   "cell_type": "markdown",
   "metadata": {},
   "source": [
    "### Load Test Data"
   ]
  },
  {
   "cell_type": "code",
   "execution_count": null,
   "metadata": {},
   "outputs": [],
   "source": [
    "# Load Test dataset\n",
    "test_data = pd.read_csv('mnist_test.csv')\n",
    "test_data.shape"
   ]
  },
  {
   "cell_type": "markdown",
   "metadata": {},
   "source": [
    "### Separate Labels"
   ]
  },
  {
   "cell_type": "code",
   "execution_count": null,
   "metadata": {},
   "outputs": [],
   "source": [
    "# Separate train labels\n",
    "train_labels = train_data.label\n",
    "\n",
    "del train_data['label']\n",
    "\n",
    "# Transform train labels to classes for cross_entropy\n",
    "train_labels = pd.get_dummies(train_labels)\n",
    "\n",
    "# Separate test labels\n",
    "test_labels = test_data.label\n",
    "\n",
    "del test_data['label']"
   ]
  },
  {
   "cell_type": "markdown",
   "metadata": {},
   "source": [
    "### Reshape to (x, 1, 28, 28)"
   ]
  },
  {
   "cell_type": "code",
   "execution_count": null,
   "metadata": {},
   "outputs": [],
   "source": [
    "# Reshape train data\n",
    "train_data = train_data.values.reshape((60000, 28, 28, 1))\n",
    "print(train_data.shape)\n",
    "\n",
    "# Reshape test data\n",
    "test_data = test_data.values.reshape((10000, 28, 28, 1))\n",
    "print(test_data.shape)"
   ]
  },
  {
   "cell_type": "markdown",
   "metadata": {},
   "source": [
    "### Visualize Some Digits"
   ]
  },
  {
   "cell_type": "code",
   "execution_count": null,
   "metadata": {
    "scrolled": true
   },
   "outputs": [],
   "source": [
    "# Which item to show\n",
    "ITEM_TO_SHOW = 33\n",
    "\n",
    "# The first column is the label\n",
    "label = train_labels.iloc[ITEM_TO_SHOW, :].idxmax()\n",
    "\n",
    "# The rest of columns are pixels\n",
    "pixels = train_data[ITEM_TO_SHOW, :, :, 0]\n",
    "\n",
    "# Make those columns into a array of 8-bits pixels\n",
    "# This array will be of 1D with length 784\n",
    "# The pixel intensity values are integers from 0 to 255\n",
    "pixels = np.array(pixels, dtype='uint8')\n",
    "\n",
    "# Plot\n",
    "plt.title('Label is {label}'.format(label=label))\n",
    "plt.imshow(pixels, cmap='gray')\n",
    "plt.show()"
   ]
  },
  {
   "cell_type": "markdown",
   "metadata": {},
   "source": [
    "### Scale Data"
   ]
  },
  {
   "cell_type": "code",
   "execution_count": null,
   "metadata": {},
   "outputs": [],
   "source": [
    "# Scale data to 0..1\n",
    "train_data = train_data / 255.\n",
    "test_data = test_data / 255."
   ]
  },
  {
   "cell_type": "markdown",
   "metadata": {},
   "source": [
    "### Model Creation"
   ]
  },
  {
   "cell_type": "code",
   "execution_count": null,
   "metadata": {},
   "outputs": [],
   "source": [
    "kristofari = Sequential()\n",
    "\n",
    "# Layer 1\n",
    "kristofari.add(Conv2D(32, kernel_size=(3, 3), data_format = 'channels_last', input_shape=(28, 28, 1)))\n",
    "kristofari.add(Activation('relu'))\n",
    "\n",
    "# Layer 2\n",
    "kristofari.add(Conv2D(64, (3, 3)))\n",
    "kristofari.add(Activation('relu'))\n",
    "\n",
    "# Layer 3\n",
    "kristofari.add(MaxPooling2D(pool_size=(2, 2)))\n",
    "kristofari.add(Dropout(0.25))               \n",
    "\n",
    "# Layer 4\n",
    "kristofari.add(Flatten())\n",
    "kristofari.add(Dense(128))\n",
    "kristofari.add(Activation('relu'))\n",
    "kristofari.add(Dropout(0.5))               \n",
    "\n",
    "# Layer 5\n",
    "kristofari.add(Dense(10))\n",
    "kristofari.add(Activation('softmax'))\n",
    "\n",
    "kristofari.compile(optimizer='adam', loss='categorical_crossentropy', metrics=['accuracy'])\n",
    "kristofari.summary()"
   ]
  },
  {
   "cell_type": "markdown",
   "metadata": {},
   "source": [
    "### Model Training"
   ]
  },
  {
   "cell_type": "code",
   "execution_count": null,
   "metadata": {},
   "outputs": [],
   "source": [
    "%%time\n",
    "\n",
    "# Required constants\n",
    "MINIBATCH_SIZE = 64\n",
    "NUM_OF_EPOCHS = 10\n",
    "\n",
    "history = kristofari.fit(train_data, train_labels, batch_size=MINIBATCH_SIZE, epochs=NUM_OF_EPOCHS, verbose=1)"
   ]
  },
  {
   "cell_type": "markdown",
   "metadata": {},
   "source": [
    "### Let's Predict!"
   ]
  },
  {
   "cell_type": "code",
   "execution_count": null,
   "metadata": {},
   "outputs": [],
   "source": [
    "# Here our neural network makes prediction on _unseen_ test data\n",
    "prediction = kristofari.predict(test_data)\n",
    "\n",
    "# Transform a little bit\n",
    "prediction = np.apply_along_axis(argmax, 1, prediction)\n",
    "\n",
    "# Finally print the accuracy\n",
    "final_score = accuracy_score(test_labels, prediction)\n",
    "print(f\"Correctly predicted in {final_score:.2%} cases out of {test_labels.shape[0]} samples!\")"
   ]
  },
  {
   "cell_type": "markdown",
   "metadata": {},
   "source": [
    "### Now Check AI on Own Digits :)"
   ]
  },
  {
   "cell_type": "code",
   "execution_count": null,
   "metadata": {},
   "outputs": [],
   "source": [
    "# Read own own hand-written digit and show it\n",
    "img = cv2.imread(\"./Peter_Digit_07.png\", 0)\n",
    "plt.imshow(img, cmap='gray')\n",
    "plt.show()"
   ]
  },
  {
   "cell_type": "code",
   "execution_count": null,
   "metadata": {},
   "outputs": [],
   "source": [
    "# Resize to be 28x28\n",
    "img = cv2.resize(img, (28, 28))\n",
    "\n",
    "# Scale to 0..1\n",
    "img = img / 255.\n",
    "\n",
    "# What digit might be there?\n",
    "prediction = kristofari.predict(img.reshape((1, 28, 28, 1)))\n",
    "print(f\"Kristofari thinks that it's {prediction.argmax()}\")"
   ]
  },
  {
   "cell_type": "code",
   "execution_count": null,
   "metadata": {},
   "outputs": [],
   "source": []
  }
 ],
 "metadata": {
  "kernelspec": {
   "display_name": "Python 3",
   "language": "python",
   "name": "python3"
  },
  "language_info": {
   "codemirror_mode": {
    "name": "ipython",
    "version": 3
   },
   "file_extension": ".py",
   "mimetype": "text/x-python",
   "name": "python",
   "nbconvert_exporter": "python",
   "pygments_lexer": "ipython3",
   "version": "3.7.3"
  }
 },
 "nbformat": 4,
 "nbformat_minor": 2
}
