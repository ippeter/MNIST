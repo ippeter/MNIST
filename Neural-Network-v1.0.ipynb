{
 "cells": [
  {
   "cell_type": "code",
   "execution_count": 1,
   "metadata": {},
   "outputs": [
    {
     "name": "stderr",
     "output_type": "stream",
     "text": [
      "Using TensorFlow backend.\n"
     ]
    },
    {
     "name": "stdout",
     "output_type": "stream",
     "text": [
      "Populating the interactive namespace from numpy and matplotlib\n"
     ]
    }
   ],
   "source": [
    "import numpy as np\n",
    "import pandas as pd\n",
    "\n",
    "import cv2\n",
    "\n",
    "import matplotlib.pyplot as plt\n",
    "\n",
    "from keras.models import Sequential\n",
    "from keras.layers import Dense, Activation\n",
    "\n",
    "from sklearn.metrics import accuracy_score\n",
    "\n",
    "%pylab inline"
   ]
  },
  {
   "cell_type": "markdown",
   "metadata": {},
   "source": [
    "### Load Train Data"
   ]
  },
  {
   "cell_type": "code",
   "execution_count": 12,
   "metadata": {},
   "outputs": [
    {
     "data": {
      "text/plain": [
       "(60000, 785)"
      ]
     },
     "execution_count": 12,
     "metadata": {},
     "output_type": "execute_result"
    }
   ],
   "source": [
    "# Load Train dataset\n",
    "train_data = pd.read_csv('mnist_train.csv')\n",
    "train_data.shape"
   ]
  },
  {
   "cell_type": "markdown",
   "metadata": {},
   "source": [
    "### Load Test Data"
   ]
  },
  {
   "cell_type": "code",
   "execution_count": 13,
   "metadata": {},
   "outputs": [
    {
     "data": {
      "text/plain": [
       "(10000, 785)"
      ]
     },
     "execution_count": 13,
     "metadata": {},
     "output_type": "execute_result"
    }
   ],
   "source": [
    "# Load Test dataset\n",
    "test_data = pd.read_csv('mnist_test.csv')\n",
    "test_data.shape"
   ]
  },
  {
   "cell_type": "markdown",
   "metadata": {},
   "source": [
    "### Visualize Some Digits"
   ]
  },
  {
   "cell_type": "code",
   "execution_count": 14,
   "metadata": {
    "scrolled": true
   },
   "outputs": [
    {
     "data": {
      "image/png": "[encoded data removed]",
      "text/plain": [
       "<Figure size 432x288 with 1 Axes>"
      ]
     },
     "metadata": {
      "needs_background": "light"
     },
     "output_type": "display_data"
    }
   ],
   "source": [
    "# Which item to show\n",
    "ITEM_TO_SHOW = 561\n",
    "\n",
    "# The first column is the label\n",
    "label = train_data.iloc[ITEM_TO_SHOW, 0]\n",
    "\n",
    "# The rest of columns are pixels\n",
    "pixels = train_data.iloc[ITEM_TO_SHOW, 1:]\n",
    "\n",
    "# Make those columns into a array of 8-bits pixels\n",
    "# This array will be of 1D with length 784\n",
    "# The pixel intensity values are integers from 0 to 255\n",
    "pixels = np.array(pixels, dtype='uint8')\n",
    "\n",
    "# Reshape the array into 28 x 28 array (2-dimensional array)\n",
    "pixels = pixels.reshape((28, 28))\n",
    "\n",
    "# Plot\n",
    "plt.title('Label is {label}'.format(label=label))\n",
    "plt.imshow(pixels, cmap='gray')\n",
    "plt.show()"
   ]
  },
  {
   "cell_type": "markdown",
   "metadata": {},
   "source": [
    "### Separate Labels"
   ]
  },
  {
   "cell_type": "code",
   "execution_count": 15,
   "metadata": {},
   "outputs": [],
   "source": [
    "# Separate train labels\n",
    "train_labels = train_data.label\n",
    "\n",
    "del train_data['label']\n",
    "\n",
    "# Transform train labels to classes for cross_entropy\n",
    "train_labels = pd.get_dummies(train_labels)\n",
    "\n",
    "# Separate test labels\n",
    "test_labels = test_data.label\n",
    "\n",
    "del test_data['label']"
   ]
  },
  {
   "cell_type": "markdown",
   "metadata": {},
   "source": [
    "### Scale Data"
   ]
  },
  {
   "cell_type": "code",
   "execution_count": 16,
   "metadata": {},
   "outputs": [],
   "source": [
    "# Scale data to 0..1\n",
    "train_data = train_data / 255.\n",
    "test_data = test_data / 255."
   ]
  },
  {
   "cell_type": "markdown",
   "metadata": {},
   "source": [
    "### Model Creation"
   ]
  },
  {
   "cell_type": "code",
   "execution_count": 17,
   "metadata": {},
   "outputs": [
    {
     "name": "stdout",
     "output_type": "stream",
     "text": [
      "Model: \"sequential_1\"\n",
      "_________________________________________________________________\n",
      "Layer (type)                 Output Shape              Param #   \n",
      "=================================================================\n",
      "dense_1 (Dense)              (None, 800)               628000    \n",
      "_________________________________________________________________\n",
      "activation_1 (Activation)    (None, 800)               0         \n",
      "_________________________________________________________________\n",
      "dense_2 (Dense)              (None, 10)                8010      \n",
      "_________________________________________________________________\n",
      "activation_2 (Activation)    (None, 10)                0         \n",
      "=================================================================\n",
      "Total params: 636,010\n",
      "Trainable params: 636,010\n",
      "Non-trainable params: 0\n",
      "_________________________________________________________________\n"
     ]
    }
   ],
   "source": [
    "kristofari = Sequential()\n",
    "\n",
    "kristofari.add(Dense(800, input_dim=784))\n",
    "kristofari.add(Activation('relu'))\n",
    "kristofari.add(Dense(10))\n",
    "kristofari.add(Activation('softmax'))\n",
    "\n",
    "kristofari.compile(optimizer='adam', loss='categorical_crossentropy', metrics=['accuracy'])\n",
    "kristofari.summary()"
   ]
  },
  {
   "cell_type": "markdown",
   "metadata": {},
   "source": [
    "### Model Training"
   ]
  },
  {
   "cell_type": "code",
   "execution_count": 18,
   "metadata": {},
   "outputs": [
    {
     "name": "stdout",
     "output_type": "stream",
     "text": [
      "Epoch 1/3\n",
      "60000/60000 [==============================] - 6s 100us/step - loss: 0.2105 - accuracy: 0.9373\n",
      "Epoch 2/3\n",
      "60000/60000 [==============================] - 6s 97us/step - loss: 0.0815 - accuracy: 0.9759\n",
      "Epoch 3/3\n",
      "60000/60000 [==============================] - 6s 97us/step - loss: 0.0508 - accuracy: 0.9842\n",
      "CPU times: user 39.5 s, sys: 7.98 s, total: 47.5 s\n",
      "Wall time: 17.9 s\n"
     ]
    }
   ],
   "source": [
    "%%time\n",
    "\n",
    "# Required constants\n",
    "MINIBATCH_SIZE = 64\n",
    "NUM_OF_EPOCHS = 3\n",
    "\n",
    "history = kristofari.fit(train_data, train_labels, batch_size=MINIBATCH_SIZE, epochs=NUM_OF_EPOCHS, verbose=1)"
   ]
  },
  {
   "cell_type": "markdown",
   "metadata": {},
   "source": [
    "### Let's Predict!"
   ]
  },
  {
   "cell_type": "code",
   "execution_count": 19,
   "metadata": {},
   "outputs": [
    {
     "name": "stdout",
     "output_type": "stream",
     "text": [
      "Correctly predicted in 98.08% cases out of 10000 samples!\n"
     ]
    }
   ],
   "source": [
    "# Here our neural network makes prediction on _unseen_ test data\n",
    "prediction = kristofari.predict(test_data)\n",
    "\n",
    "# Transform a little bit\n",
    "prediction = np.apply_along_axis(argmax, 1, prediction)\n",
    "\n",
    "# Finally print the accuracy\n",
    "final_score = accuracy_score(test_labels, prediction)\n",
    "print(f\"Correctly predicted in {final_score:.2%} cases out of {test_labels.shape[0]} samples!\")"
   ]
  },
  {
   "cell_type": "markdown",
   "metadata": {},
   "source": [
    "### Now Check AI on Own Digits :)"
   ]
  },
  {
   "cell_type": "code",
   "execution_count": 22,
   "metadata": {},
   "outputs": [
    {
     "data": {
      "image/png": "[encoded data removed]",
      "text/plain": [
       "<Figure size 432x288 with 1 Axes>"
      ]
     },
     "metadata": {
      "needs_background": "light"
     },
     "output_type": "display_data"
    }
   ],
   "source": [
    "# Read own own hand-written digit and show it\n",
    "img = cv2.imread(\"./Peter_Digit_01.png\", 0)\n",
    "plt.imshow(img, cmap='gray')\n",
    "plt.show()"
   ]
  },
  {
   "cell_type": "code",
   "execution_count": 24,
   "metadata": {},
   "outputs": [
    {
     "name": "stdout",
     "output_type": "stream",
     "text": [
      "Kristofari thinks that it's 5\n"
     ]
    }
   ],
   "source": [
    "# Resize to be 28x28\n",
    "img = cv2.resize(img, (28, 28))\n",
    "\n",
    "# Scale to 0..1\n",
    "img = img / 255.\n",
    "\n",
    "# What digit might be there?\n",
    "prediction = kristofari.predict(img.reshape((1, 784)))\n",
    "print(f\"Kristofari thinks that it's {prediction.argmax()}\")"
   ]
  },
  {
   "cell_type": "code",
   "execution_count": null,
   "metadata": {},
   "outputs": [],
   "source": []
  }
 ],
 "metadata": {
  "kernelspec": {
   "display_name": "Python 3",
   "language": "python",
   "name": "python3"
  },
  "language_info": {
   "codemirror_mode": {
    "name": "ipython",
    "version": 3
   },
   "file_extension": ".py",
   "mimetype": "text/x-python",
   "name": "python",
   "nbconvert_exporter": "python",
   "pygments_lexer": "ipython3",
   "version": "3.7.3"
  }
 },
 "nbformat": 4,
 "nbformat_minor": 2
}
