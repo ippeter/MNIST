{
 "cells": [
  {
   "cell_type": "markdown",
   "metadata": {},
   "source": [
    "### Загружаем библиотеки, необходимые для работы программы"
   ]
  },
  {
   "cell_type": "code",
   "execution_count": 42,
   "metadata": {},
   "outputs": [
    {
     "name": "stdout",
     "output_type": "stream",
     "text": [
      "Populating the interactive namespace from numpy and matplotlib\n"
     ]
    }
   ],
   "source": [
    "import numpy as np\n",
    "import pandas as pd\n",
    "import matplotlib.pyplot as plt\n",
    "\n",
    "import cv2\n",
    "\n",
    "from keras.models import Sequential\n",
    "from keras.layers import Dense, Activation\n",
    "from sklearn.metrics import accuracy_score\n",
    "\n",
    "%pylab inline"
   ]
  },
  {
   "cell_type": "markdown",
   "metadata": {},
   "source": [
    "### Загружаем данные для обучения\n",
    "#### Это будет 60 000 черно-белых картинок размером 28х28 точек\n",
    "#### На этих картинках нейронная сеть будет учиться"
   ]
  },
  {
   "cell_type": "code",
   "execution_count": 43,
   "metadata": {},
   "outputs": [
    {
     "data": {
      "text/plain": [
       "(60000, 785)"
      ]
     },
     "execution_count": 43,
     "metadata": {},
     "output_type": "execute_result"
    }
   ],
   "source": [
    "# Load Train dataset\n",
    "train_data = pd.read_csv('mnist_train.csv')\n",
    "train_data.shape"
   ]
  },
  {
   "cell_type": "markdown",
   "metadata": {},
   "source": [
    "### Загружаем данные, на которых программа будет проверять качество обучения\n",
    "#### 10 000 аналогичных картинок. Мы их покажем нейронной сети только один раз - когда обучение закончится, - чтобы оценить качество обучения\n",
    "#### Эти картинки - общеизвестный и популярный набор данных, используемый на соревнованиях дата-сатанистов"
   ]
  },
  {
   "cell_type": "code",
   "execution_count": 44,
   "metadata": {},
   "outputs": [
    {
     "data": {
      "text/plain": [
       "(10000, 785)"
      ]
     },
     "execution_count": 44,
     "metadata": {},
     "output_type": "execute_result"
    }
   ],
   "source": [
    "# Load Test dataset\n",
    "test_data = pd.read_csv('mnist_test.csv')\n",
    "test_data.shape"
   ]
  },
  {
   "cell_type": "markdown",
   "metadata": {},
   "source": [
    "### Посмотрим на какую-нибудь картинку, чтобы понимать, о чём речь"
   ]
  },
  {
   "cell_type": "code",
   "execution_count": 45,
   "metadata": {},
   "outputs": [],
   "source": [
    "#\n",
    "# ЭТОТ ПАРАМЕТР МОЖНО МЕНЯТЬ В ДИАПАЗОНЕ ОТ 0 до 59999\n",
    "#\n",
    "ITEM_TO_SHOW = 1234"
   ]
  },
  {
   "cell_type": "code",
   "execution_count": 46,
   "metadata": {
    "scrolled": true
   },
   "outputs": [
    {
     "data": {
      "image/png": "[encoded data removed]",
      "text/plain": [
       "<Figure size 432x288 with 1 Axes>"
      ]
     },
     "metadata": {
      "needs_background": "light"
     },
     "output_type": "display_data"
    }
   ],
   "source": [
    "# The first column is the label\n",
    "label = train_data.iloc[ITEM_TO_SHOW, 0]\n",
    "\n",
    "# The rest of columns are pixels\n",
    "pixels = train_data.iloc[ITEM_TO_SHOW, 1:]\n",
    "\n",
    "# Make those columns into a array of 8-bits pixels\n",
    "# This array will be of 1D with length 784\n",
    "# The pixel intensity values are integers from 0 to 255\n",
    "pixels = np.array(pixels, dtype='uint8')\n",
    "\n",
    "# Reshape the array into 28 x 28 array (2-dimensional array)\n",
    "pixels = pixels.reshape((28, 28))\n",
    "\n",
    "# Plot\n",
    "plt.title('Label is {label}'.format(label=label))\n",
    "plt.imshow(pixels, cmap='gray')\n",
    "plt.show()"
   ]
  },
  {
   "cell_type": "markdown",
   "metadata": {},
   "source": [
    "### Тут происходят некоторые важные действия по подготовке данных к обучению"
   ]
  },
  {
   "cell_type": "code",
   "execution_count": 47,
   "metadata": {},
   "outputs": [],
   "source": [
    "# Separate train labels\n",
    "train_labels = train_data.label\n",
    "\n",
    "del train_data['label']\n",
    "\n",
    "# Transform train labels to classes for cross_entropy\n",
    "train_labels = pd.get_dummies(train_labels)\n",
    "\n",
    "# Separate test labels\n",
    "test_labels = test_data.label\n",
    "\n",
    "del test_data['label']\n",
    "\n",
    "# Scale data to 0..1\n",
    "train_data = train_data / 255.\n",
    "test_data = test_data / 255."
   ]
  },
  {
   "cell_type": "markdown",
   "metadata": {},
   "source": [
    "### Здесь мы определяем структуру нашей нейронной сети (a.k.a. Искусственного Интеллекта)\n",
    "#### Используется очень простая нейронная сеть, состоящая из всего трех уровней (в реальной жизни используются десятки и сотни уровней)\n",
    "#### Первый уровень - входной, это наши картинки; второй уровень - т.н. \"скрытый\"; третий уровень - выходной, т.е. тут уже результат.\n",
    "#### На втором уровне 800 нейронов\n",
    "#### Обратите внимание: в данной сети получилось примерно 636 000 переменных, которые нейронная сеть будет подбирать в процессе обучения, чтобы максимально точно приспособиться к нашим данным"
   ]
  },
  {
   "cell_type": "code",
   "execution_count": 48,
   "metadata": {},
   "outputs": [
    {
     "name": "stdout",
     "output_type": "stream",
     "text": [
      "Model: \"sequential_4\"\n",
      "_________________________________________________________________\n",
      "Layer (type)                 Output Shape              Param #   \n",
      "=================================================================\n",
      "dense_7 (Dense)              (None, 800)               628000    \n",
      "_________________________________________________________________\n",
      "activation_7 (Activation)    (None, 800)               0         \n",
      "_________________________________________________________________\n",
      "dense_8 (Dense)              (None, 10)                8010      \n",
      "_________________________________________________________________\n",
      "activation_8 (Activation)    (None, 10)                0         \n",
      "=================================================================\n",
      "Total params: 636,010\n",
      "Trainable params: 636,010\n",
      "Non-trainable params: 0\n",
      "_________________________________________________________________\n"
     ]
    }
   ],
   "source": [
    "neural_network = Sequential()\n",
    "\n",
    "neural_network.add(Dense(800, input_dim=784))\n",
    "neural_network.add(Activation('relu'))\n",
    "neural_network.add(Dense(10))\n",
    "neural_network.add(Activation('softmax'))\n",
    "\n",
    "neural_network.compile(optimizer='adam', loss='categorical_crossentropy', metrics=['accuracy'])\n",
    "neural_network.summary()"
   ]
  },
  {
   "cell_type": "markdown",
   "metadata": {},
   "source": [
    "### Самое интересное: обучение нейронной сети\n",
    "#### Сеть прогонит через себя все 60 000 картинок 10 раз.\n",
    "#### В конце обратите внимание на общее время обучения. Оно должно быть порядка 50 секунд. Настоящие нейронные сети, которые обладают крайне сложной структурой, учатся часами-днями-неделями на специальном оборудовании - GPU"
   ]
  },
  {
   "cell_type": "code",
   "execution_count": 49,
   "metadata": {},
   "outputs": [
    {
     "name": "stdout",
     "output_type": "stream",
     "text": [
      "Epoch 1/10\n",
      "60000/60000 [==============================] - 6s 94us/step - loss: 0.2124 - accuracy: 0.9379\n",
      "Epoch 2/10\n",
      "60000/60000 [==============================] - 5s 90us/step - loss: 0.0808 - accuracy: 0.9751\n",
      "Epoch 3/10\n",
      "60000/60000 [==============================] - 5s 89us/step - loss: 0.0518 - accuracy: 0.9838\n",
      "Epoch 4/10\n",
      "60000/60000 [==============================] - 5s 90us/step - loss: 0.0350 - accuracy: 0.9894\n",
      "Epoch 5/10\n",
      "60000/60000 [==============================] - 5s 91us/step - loss: 0.0260 - accuracy: 0.9912\n",
      "Epoch 6/10\n",
      "60000/60000 [==============================] - 6s 93us/step - loss: 0.0191 - accuracy: 0.9937\n",
      "Epoch 7/10\n",
      "60000/60000 [==============================] - 6s 93us/step - loss: 0.0158 - accuracy: 0.9951\n",
      "Epoch 8/10\n",
      "60000/60000 [==============================] - 6s 92us/step - loss: 0.0119 - accuracy: 0.9962\n",
      "Epoch 9/10\n",
      "60000/60000 [==============================] - 5s 89us/step - loss: 0.0107 - accuracy: 0.9967\n",
      "Epoch 10/10\n",
      "60000/60000 [==============================] - 6s 94us/step - loss: 0.0102 - accuracy: 0.9965\n",
      "CPU times: user 2min, sys: 23.4 s, total: 2min 24s\n",
      "Wall time: 55.2 s\n"
     ]
    }
   ],
   "source": [
    "%%time\n",
    "\n",
    "# Required constants\n",
    "MINIBATCH_SIZE = 64\n",
    "NUM_OF_EPOCHS = 10\n",
    "\n",
    "history = neural_network.fit(train_data, train_labels, batch_size=MINIBATCH_SIZE, epochs=NUM_OF_EPOCHS, verbose=1)"
   ]
  },
  {
   "cell_type": "markdown",
   "metadata": {},
   "source": [
    "### Теперь посмотрим, насколько хорошо нейронная сеть научилась\n",
    "#### Для этого мы покажем ей те 10 000 картинок, которые мы в начале загрузили, но еще не использовали"
   ]
  },
  {
   "cell_type": "code",
   "execution_count": 50,
   "metadata": {},
   "outputs": [
    {
     "name": "stdout",
     "output_type": "stream",
     "text": [
      "Correctly predicted in 98.26% cases out of 10000 samples!\n"
     ]
    }
   ],
   "source": [
    "# Here our neural network makes prediction on _unseen_ test data\n",
    "prediction = neural_network.predict(test_data)\n",
    "\n",
    "# Transform a little bit\n",
    "prediction = np.apply_along_axis(argmax, 1, prediction)\n",
    "\n",
    "# Finally print the accuracy\n",
    "final_score = accuracy_score(test_labels, prediction)\n",
    "print(f\"Correctly predicted in {final_score:.2%} cases out of {test_labels.shape[0]} samples!\")"
   ]
  },
  {
   "cell_type": "markdown",
   "metadata": {},
   "source": [
    "### Теперь проверим работу сети на картинке, которую нарисовал от руки коллега Олега ;)\n",
    "#### Вот эта картинка:"
   ]
  },
  {
   "cell_type": "code",
   "execution_count": 51,
   "metadata": {
    "scrolled": true
   },
   "outputs": [
    {
     "data": {
      "image/png": "[encoded data removed]",
      "text/plain": [
       "<Figure size 432x288 with 1 Axes>"
      ]
     },
     "metadata": {
      "needs_background": "light"
     },
     "output_type": "display_data"
    }
   ],
   "source": [
    "# Read own own hand-written digit and show it\n",
    "img = cv2.imread(\"./Peter_Digit_06.png\", 0)\n",
    "plt.imshow(img, cmap='gray')\n",
    "plt.show()"
   ]
  },
  {
   "cell_type": "markdown",
   "metadata": {},
   "source": [
    "#### Аудитория замирает в волнительном ожидании...."
   ]
  },
  {
   "cell_type": "code",
   "execution_count": 52,
   "metadata": {},
   "outputs": [
    {
     "name": "stdout",
     "output_type": "stream",
     "text": [
      "AI thinks that it's 3\n"
     ]
    }
   ],
   "source": [
    "# Resize to be 28x28\n",
    "img = cv2.resize(img, (28, 28))\n",
    "\n",
    "# Scale to 0..1\n",
    "img = img / 255.\n",
    "\n",
    "# What digit might be there?\n",
    "prediction = neural_network.predict(img.reshape((1, 784)))\n",
    "print(f\"AI thinks that it's {prediction.argmax()}\")"
   ]
  },
  {
   "cell_type": "code",
   "execution_count": null,
   "metadata": {},
   "outputs": [],
   "source": []
  }
 ],
 "metadata": {
  "kernelspec": {
   "display_name": "Python 3",
   "language": "python",
   "name": "python3"
  },
  "language_info": {
   "codemirror_mode": {
    "name": "ipython",
    "version": 3
   },
   "file_extension": ".py",
   "mimetype": "text/x-python",
   "name": "python",
   "nbconvert_exporter": "python",
   "pygments_lexer": "ipython3",
   "version": "3.7.3"
  }
 },
 "nbformat": 4,
 "nbformat_minor": 2
}
